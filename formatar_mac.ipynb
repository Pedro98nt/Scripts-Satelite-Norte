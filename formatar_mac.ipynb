{
  "nbformat": 4,
  "nbformat_minor": 0,
  "metadata": {
    "colab": {
      "provenance": [],
      "include_colab_link": true
    },
    "kernelspec": {
      "name": "python3",
      "display_name": "Python 3"
    },
    "language_info": {
      "name": "python"
    }
  },
  "cells": [
    {
      "cell_type": "markdown",
      "metadata": {
        "id": "view-in-github",
        "colab_type": "text"
      },
      "source": [
        "<a href=\"https://colab.research.google.com/github/Pedro98nt/Scripts-Satelite-Norte/blob/master/formatar_mac.ipynb\" target=\"_parent\"><img src=\"https://colab.research.google.com/assets/colab-badge.svg\" alt=\"Open In Colab\"/></a>"
      ]
    },
    {
      "cell_type": "code",
      "source": [
        "def formatar_mac(mac, formato='padrao'):\n",
        "    mac_limpo = ''.join(c for c in mac if c.isalnum())\n",
        "    tamanho = len(mac_limpo)\n",
        "\n",
        "    while tamanho != 12:\n",
        "      mac = input(\"Quantidade de caracteres inválida! Por favor informe um tamanho de MAC correto:\")\n",
        "      mac_limpo = ''.join(c for c in mac if c.isalnum())\n",
        "      tamanho = len(mac_limpo)\n",
        "      if tamanho == 12:\n",
        "        break\n",
        "\n",
        "    if formato == 'dois_pontos':\n",
        "        mac_formatado = ':'.join(mac_limpo[i:i+2] for i in range(0, len(mac_limpo), 2))\n",
        "    elif formato == 'tracos':\n",
        "        mac_formatado = '-'.join(mac_limpo[i:i+2] for i in range(0, len(mac_limpo), 2))\n",
        "    elif formato == 'satelite':\n",
        "        mac_formatado = ':'.join(mac_limpo[i:i+2] for i in range(0, len(mac_limpo), 2))\n",
        "    else:\n",
        "        mac_formatado = mac_limpo\n",
        "\n",
        "    if formato == 'satelite':\n",
        "        return mac_formatado.lower()\n",
        "    else:\n",
        "        return mac_formatado.upper()\n",
        "\n",
        "# Exemplo de uso\n",
        "mac_input = input(\"Digite o endereço MAC: \")\n",
        "formato_escolhido = input(\"Escolha o formato (padrao/dois_pontos/tracos/satelite): \")\n",
        "\n",
        "mac_formatado = formatar_mac(mac_input, formato_escolhido)\n",
        "print(\"MAC formatado:\", mac_formatado)"
      ],
      "metadata": {
        "colab": {
          "base_uri": "https://localhost:8080/"
        },
        "id": "OP5_0CZSjhm4",
        "outputId": "4f769e75-8628-48da-a614-4c4a8061ec1e"
      },
      "execution_count": null,
      "outputs": [
        {
          "output_type": "stream",
          "name": "stdout",
          "text": [
            "Digite o endereço MAC: a1a5a6897845\n",
            "Escolha o formato (padrao/dois_pontos/tracos/satelite): padrao\n",
            "MAC formatado: A1A5A6897845\n"
          ]
        }
      ]
    }
  ]
}