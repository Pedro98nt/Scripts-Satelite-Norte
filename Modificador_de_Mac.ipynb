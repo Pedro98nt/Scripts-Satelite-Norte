{
  "nbformat": 4,
  "nbformat_minor": 0,
  "metadata": {
    "colab": {
      "provenance": []
    },
    "kernelspec": {
      "name": "python3",
      "display_name": "Python 3"
    },
    "language_info": {
      "name": "python"
    }
  },
  "cells": [
    {
      "cell_type": "code",
      "execution_count": null,
      "metadata": {
        "id": "bFMi0rkkiWdA"
      },
      "outputs": [],
      "source": [
        "def formatar_mac(mac, formato='padrao'):\n",
        "    mac_limpo = ''.join(c for c in mac if c.isalnum())\n",
        "\n",
        "    if formato == 'dois_pontos':\n",
        "        mac_formatado = ':'.join(mac_limpo[i:i+2] for i in range(0, len(mac_limpo), 2))\n",
        "    elif formato == 'tracos':\n",
        "        mac_formatado = '-'.join(mac_limpo[i:i+2] for i in range(0, len(mac_limpo), 2))\n",
        "    else:\n",
        "        mac_formatado = mac_limpo\n",
        "\n",
        "    return mac_formatado.upper()\n",
        "\n",
        "# Exemplo de uso\n",
        "mac_input = input(\"Digite o endereço MAC: \")\n",
        "formato_escolhido = input(\"Escolha o formato (padrao/dois_pontos/tracos): \")\n",
        "\n",
        "mac_formatado = formatar_mac(mac_input, formato_escolhido)\n",
        "print(\"MAC formatado:\", mac_formatado)"
      ]
    }
  ]
}